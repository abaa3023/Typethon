{
 "cells": [
  {
   "cell_type": "code",
   "execution_count": 20,
   "id": "1c486f8e-07d8-4d33-90f9-ddd67e56f423",
   "metadata": {},
   "outputs": [
    {
     "name": "stdout",
     "output_type": "stream",
     "text": [
      "Module(\n",
      "    body=[\n",
      "        Expr(\n",
      "            value=Name(id='x', ctx=Load()))],\n",
      "    type_ignores=[])\n"
     ]
    }
   ],
   "source": [
    "import ast\n",
    "from ast import *\n",
    "\n",
    "\n",
    "class check(NodeTransformer):\n",
    "    \n",
    "    def visit_AnnAssign(self, n):\n",
    "        print(n.target)\n",
    "        print(n.annotation)\n",
    "        print(n.value)\n",
    "        self.generic_visit(n)\n",
    "        # return Assign(targets = [Name(id=n.name,ctx=Store())],value = Lambda(args=arguments(args = n.args.args),body = n.body))\n",
    "    \n",
    "def main():\n",
    "    tree=ast.parse(\n",
    "'''\n",
    "x\n",
    "'''\n",
    ")\n",
    "    print(ast.dump(tree,indent=4))\n",
    "    c = check()\n",
    "    tree = c.visit(tree)\n",
    "\n",
    "main()\n"
   ]
  },
  {
   "cell_type": "code",
   "execution_count": null,
   "id": "45adef34-4894-41dd-8cec-bee1b7004000",
   "metadata": {},
   "outputs": [],
   "source": []
  },
  {
   "cell_type": "code",
   "execution_count": null,
   "id": "16e6317d-3692-4364-a7b7-3bdf56b76b3e",
   "metadata": {},
   "outputs": [],
   "source": []
  },
  {
   "cell_type": "code",
   "execution_count": null,
   "id": "3b982c69-8169-4528-ae33-89cec5acfd94",
   "metadata": {},
   "outputs": [],
   "source": []
  },
  {
   "cell_type": "code",
   "execution_count": null,
   "id": "f37b3f2b-ddce-4e99-b43e-55425f92190e",
   "metadata": {},
   "outputs": [],
   "source": []
  }
 ],
 "metadata": {
  "kernelspec": {
   "display_name": "Python 3 (ipykernel)",
   "language": "python",
   "name": "python3"
  },
  "language_info": {
   "codemirror_mode": {
    "name": "ipython",
    "version": 3
   },
   "file_extension": ".py",
   "mimetype": "text/x-python",
   "name": "python",
   "nbconvert_exporter": "python",
   "pygments_lexer": "ipython3",
   "version": "3.10.8"
  }
 },
 "nbformat": 4,
 "nbformat_minor": 5
}
