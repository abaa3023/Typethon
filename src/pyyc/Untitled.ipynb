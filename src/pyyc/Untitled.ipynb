{
 "cells": [
  {
   "cell_type": "code",
   "execution_count": 21,
   "id": "1c486f8e-07d8-4d33-90f9-ddd67e56f423",
   "metadata": {},
   "outputs": [
    {
     "name": "stdout",
     "output_type": "stream",
     "text": [
      "Module(\n",
      "    body=[\n",
      "        AnnAssign(\n",
      "            target=Name(id='x', ctx=Store()),\n",
      "            annotation=Name(id='int', ctx=Load()),\n",
      "            value=Constant(value=1),\n",
      "            simple=1),\n",
      "        AnnAssign(\n",
      "            target=Name(id='y', ctx=Store()),\n",
      "            annotation=Name(id='int', ctx=Load()),\n",
      "            value=Constant(value=2),\n",
      "            simple=1),\n",
      "        AnnAssign(\n",
      "            target=Name(id='z', ctx=Store()),\n",
      "            annotation=Name(id='dict', ctx=Load()),\n",
      "            value=Dict(\n",
      "                keys=[\n",
      "                    Name(id='x', ctx=Load())],\n",
      "                values=[\n",
      "                    Name(id='y', ctx=Load())]),\n",
      "            simple=1),\n",
      "        Expr(\n",
      "            value=Call(\n",
      "                func=Name(id='print', ctx=Load()),\n",
      "                args=[\n",
      "                    Name(id='z', ctx=Load())],\n",
      "                keywords=[]))],\n",
      "    type_ignores=[])\n",
      "<ast.Name object at 0x7f99bac82500>\n",
      "<ast.Name object at 0x7f99bac83850>\n",
      "<ast.Constant object at 0x7f99bac82950>\n",
      "<ast.Name object at 0x7f99bac83160>\n",
      "<ast.Name object at 0x7f99bac830a0>\n",
      "<ast.Constant object at 0x7f99bac82dd0>\n",
      "<ast.Name object at 0x7f99bac818d0>\n",
      "<ast.Name object at 0x7f99bac81d80>\n",
      "<ast.Dict object at 0x7f99bac82a70>\n"
     ]
    }
   ],
   "source": [
    "import ast\n",
    "from ast import *\n",
    "\n",
    "\n",
    "class check(NodeTransformer):\n",
    "    \n",
    "    def visit_AnnAssign(self, n):\n",
    "        print(n.target)\n",
    "        print(n.annotation)\n",
    "        print(n.value)\n",
    "        self.generic_visit(n)\n",
    "        # return Assign(targets = [Name(id=n.name,ctx=Store())],value = Lambda(args=arguments(args = n.args.args),body = n.body))\n",
    "    \n",
    "def main():\n",
    "    tree=ast.parse(\n",
    "'''\n",
    "x:int = 1\n",
    "y:int = 2\n",
    "z:dict = { x : y}\n",
    "print(z)\n",
    "'''\n",
    ")\n",
    "    print(ast.dump(tree,indent=4))\n",
    "    c = check()\n",
    "    tree = c.visit(tree)\n",
    "\n",
    "main()\n"
   ]
  },
  {
   "cell_type": "code",
   "execution_count": null,
   "id": "45adef34-4894-41dd-8cec-bee1b7004000",
   "metadata": {},
   "outputs": [],
   "source": []
  },
  {
   "cell_type": "code",
   "execution_count": null,
   "id": "16e6317d-3692-4364-a7b7-3bdf56b76b3e",
   "metadata": {},
   "outputs": [],
   "source": []
  },
  {
   "cell_type": "code",
   "execution_count": null,
   "id": "3b982c69-8169-4528-ae33-89cec5acfd94",
   "metadata": {},
   "outputs": [],
   "source": []
  },
  {
   "cell_type": "code",
   "execution_count": 3,
   "id": "f37b3f2b-ddce-4e99-b43e-55425f92190e",
   "metadata": {},
   "outputs": [
    {
     "name": "stdout",
     "output_type": "stream",
     "text": [
      "Module(\n",
      "    body=[\n",
      "        FunctionDef(\n",
      "            name='plus3',\n",
      "            args=arguments(\n",
      "                posonlyargs=[],\n",
      "                args=[\n",
      "                    arg(arg='a')],\n",
      "                kwonlyargs=[],\n",
      "                kw_defaults=[],\n",
      "                defaults=[]),\n",
      "            body=[\n",
      "                Return(\n",
      "                    value=BinOp(\n",
      "                        left=Name(id='a', ctx=Load()),\n",
      "                        op=Add(),\n",
      "                        right=Constant(value=3)))],\n",
      "            decorator_list=[]),\n",
      "        Assign(\n",
      "            targets=[\n",
      "                Name(id='a', ctx=Store())],\n",
      "            value=Name(id='plus3', ctx=Load())),\n",
      "        Expr(\n",
      "            value=Call(\n",
      "                func=Name(id='print', ctx=Load()),\n",
      "                args=[\n",
      "                    Call(\n",
      "                        func=Name(id='a', ctx=Load()),\n",
      "                        args=[\n",
      "                            Constant(value=3)],\n",
      "                        keywords=[])],\n",
      "                keywords=[]))],\n",
      "    type_ignores=[])\n"
     ]
    }
   ],
   "source": [
    "import ast\n",
    "from ast import *\n",
    "\n",
    "print(ast.dump(ast.parse(\n",
    "'''\n",
    "def plus3(a):\n",
    "    return a+3\n",
    "a=plus3\n",
    "print(a(3))\n",
    "'''\n",
    "), indent=4))"
   ]
  },
  {
   "cell_type": "code",
   "execution_count": null,
   "id": "53737476-95cc-4e27-982a-af5b01124575",
   "metadata": {},
   "outputs": [],
   "source": []
  }
 ],
 "metadata": {
  "kernelspec": {
   "display_name": "Python 3 (ipykernel)",
   "language": "python",
   "name": "python3"
  },
  "language_info": {
   "codemirror_mode": {
    "name": "ipython",
    "version": 3
   },
   "file_extension": ".py",
   "mimetype": "text/x-python",
   "name": "python",
   "nbconvert_exporter": "python",
   "pygments_lexer": "ipython3",
   "version": "3.10.8"
  }
 },
 "nbformat": 4,
 "nbformat_minor": 5
}
